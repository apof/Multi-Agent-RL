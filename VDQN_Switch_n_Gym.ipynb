{
  "nbformat": 4,
  "nbformat_minor": 0,
  "metadata": {
    "colab": {
      "name": "VDQN Switch-n Gym.ipynb",
      "provenance": [],
      "collapsed_sections": [],
      "authorship_tag": "ABX9TyPVrM0PKTxcgSaWopSJ+C1h",
      "include_colab_link": true
    },
    "kernelspec": {
      "name": "python3",
      "display_name": "Python 3"
    }
  },
  "cells": [
    {
      "cell_type": "markdown",
      "metadata": {
        "id": "view-in-github",
        "colab_type": "text"
      },
      "source": [
        "<a href=\"https://colab.research.google.com/github/apof/Multi-Agent-AI/blob/main/VDQN_Switch_n_Gym.ipynb\" target=\"_parent\"><img src=\"https://colab.research.google.com/assets/colab-badge.svg\" alt=\"Open In Colab\"/></a>"
      ]
    },
    {
      "cell_type": "code",
      "metadata": {
        "id": "N0MTkFoNkLi2",
        "colab": {
          "base_uri": "https://localhost:8080/"
        },
        "outputId": "7fd58f0d-cc97-450c-94c8-5c5cefc4cbd8"
      },
      "source": [
        "!rm -rf /content/ma-gym  \n",
        "!git clone https://github.com/koulanurag/ma-gym.git \n",
        "%cd /content/ma-gym \n",
        "!pip install -q -e . \n",
        "!apt-get install -y xvfb python-opengl x11-utils > /dev/null 2>&1\n",
        "!pip install pyvirtualdisplay > /dev/null 2>&1\n",
        "!apt-get install x11-utils\n",
        "!apt-get update > /dev/null 2>&1\n",
        "!apt-get install cmake > /dev/null 2>&1\n",
        "!pip install --upgrade setuptools 2>&1\n",
        "!pip install ez_setup > /dev/null 2>&1\n",
        "!pip install -U gym[atari] > /dev/null 2>&1"
      ],
      "execution_count": 1,
      "outputs": [
        {
          "output_type": "stream",
          "text": [
            "Cloning into 'ma-gym'...\n",
            "remote: Enumerating objects: 50, done.\u001b[K\n",
            "remote: Counting objects: 100% (50/50), done.\u001b[K\n",
            "remote: Compressing objects: 100% (38/38), done.\u001b[K\n",
            "remote: Total 981 (delta 16), reused 32 (delta 8), pack-reused 931\u001b[K\n",
            "Receiving objects: 100% (981/981), 3.72 MiB | 9.04 MiB/s, done.\n",
            "Resolving deltas: 100% (479/479), done.\n",
            "/content/ma-gym\n",
            "Reading package lists... Done\n",
            "Building dependency tree       \n",
            "Reading state information... Done\n",
            "x11-utils is already the newest version (7.7+3build1).\n",
            "0 upgraded, 0 newly installed, 0 to remove and 53 not upgraded.\n",
            "Requirement already up-to-date: setuptools in /usr/local/lib/python3.7/dist-packages (54.1.2)\n"
          ],
          "name": "stdout"
        }
      ]
    },
    {
      "cell_type": "code",
      "metadata": {
        "id": "3sYf6AK2d6kK"
      },
      "source": [
        "%matplotlib inline\n",
        "import gym\n",
        "import ma_gym\n",
        "from ma_gym.wrappers import Monitor\n",
        "import glob\n",
        "import io\n",
        "import base64\n",
        "from IPython.display import HTML\n",
        "from IPython import display as ipythondisplay\n",
        "import time\n",
        "import math\n",
        "import random\n",
        "import numpy as np\n",
        "import matplotlib\n",
        "import matplotlib.pyplot as plt\n",
        "from collections import namedtuple\n",
        "from itertools import count\n",
        "import random\n",
        "from IPython.display import clear_output\n",
        "\n",
        "import torch\n",
        "import torch.nn as nn\n",
        "import torch.optim as optim\n",
        "import torch.nn.functional as F\n",
        "import torchvision.transforms as T"
      ],
      "execution_count": 2,
      "outputs": []
    },
    {
      "cell_type": "code",
      "metadata": {
        "id": "JfZqAPuxnbVA"
      },
      "source": [
        "\"\"\"\n",
        "Utility functions to enable video recording of gym environment and displaying it\n",
        "To enable video, just do \"env = wrap_env(env)\"\"\n",
        "\"\"\"\n",
        "\n",
        "def show_video():\n",
        "  mp4list = glob.glob('video/*.mp4')\n",
        "  if len(mp4list) > 0:\n",
        "    mp4 = mp4list[0]\n",
        "    video = io.open(mp4, 'r+b').read()\n",
        "    encoded = base64.b64encode(video)\n",
        "    ipythondisplay.display(HTML(data='''<video alt=\"test\" autoplay \n",
        "                loop controls style=\"height: 200px;\">\n",
        "                <source src=\"data:video/mp4;base64,{0}\" type=\"video/mp4\" />\n",
        "             </video>'''.format(encoded.decode('ascii'))))\n",
        "  else: \n",
        "    print(\"Could not find video\")\n",
        "    \n",
        "\n",
        "def wrap_env(env):\n",
        "  env = Monitor(env, './video', force=True)\n",
        "  return env"
      ],
      "execution_count": 3,
      "outputs": []
    },
    {
      "cell_type": "markdown",
      "metadata": {
        "id": "jPuQOIYtAE0M"
      },
      "source": [
        "**Random Policy Agent Below**"
      ]
    },
    {
      "cell_type": "code",
      "metadata": {
        "id": "csKwsouh8b8e",
        "colab": {
          "base_uri": "https://localhost:8080/",
          "height": 255
        },
        "outputId": "3eef3d57-b2a2-4c8b-92f9-46d703397c8f"
      },
      "source": [
        "env = wrap_env(gym.make(\"Switch2-v0\")) # Use \"Switch4-v0\" for the Switch-4 game\n",
        "\n",
        "#### run the game for a number of episodes for a random policy\n",
        "episodes_reward = []\n",
        "cum_random_reward = []\n",
        "episodes_list = []\n",
        "episodes_num = 1000\n",
        "\n",
        "for episode in range(episodes_num):\n",
        "\n",
        "  episodes_list.append(episode)\n",
        "\n",
        "  done_n = [False for _ in range(env.n_agents)]\n",
        "  ep_reward = 0\n",
        "\n",
        "  steps = 0\n",
        "\n",
        "  obs_n = env.reset()\n",
        "  while not all(done_n):\n",
        "      steps += 1\n",
        "      obs_n, reward_n, done_n, info = env.step(env.action_space.sample())\n",
        "      ep_reward += sum(reward_n)\n",
        "      #print(done_n)\n",
        "      #print(steps)\n",
        "  episodes_reward.append(ep_reward)\n",
        "  cum_random_reward.append(sum(episodes_reward))\n",
        "\n",
        "env.close()\n",
        "# To improve the training efficiency, render() is not necessary during the training.\n",
        "# We provide the render and video code here just want to demonstrate how to debugging and analysis.\n",
        "show_video()"
      ],
      "execution_count": 4,
      "outputs": [
        {
          "output_type": "stream",
          "text": [
            "/usr/local/lib/python3.7/dist-packages/gym/logger.py:30: UserWarning: \u001b[33mWARN: Box bound precision lowered by casting to float32\u001b[0m\n",
            "  warnings.warn(colorize('%s: %s'%('WARN', msg % args), 'yellow'))\n"
          ],
          "name": "stderr"
        },
        {
          "output_type": "display_data",
          "data": {
            "text/html": [
              "<video alt=\"test\" autoplay \n",
              "                loop controls style=\"height: 200px;\">\n",
              "                <source src=\"data:video/mp4;base64,AAAAIGZ0eXBpc29tAAACAGlzb21pc28yYXZjMW1wNDEAAAAIZnJlZQAAAAhtZGF0AAAA1m1vb3YAAABsbXZoZAAAAAAAAAAAAAAAAAAAA+gAAAAAAAEAAAEAAAAAAAAAAAAAAAABAAAAAAAAAAAAAAAAAAAAAQAAAAAAAAAAAAAAAAAAQAAAAAAAAAAAAAAAAAAAAAAAAAAAAAAAAAAAAAAAAAIAAABidWR0YQAAAFptZXRhAAAAAAAAACFoZGxyAAAAAAAAAABtZGlyYXBwbAAAAAAAAAAAAAAAAC1pbHN0AAAAJal0b28AAAAdZGF0YQAAAAEAAAAATGF2ZjU3LjgzLjEwMA==\" type=\"video/mp4\" />\n",
              "             </video>"
            ],
            "text/plain": [
              "<IPython.core.display.HTML object>"
            ]
          },
          "metadata": {
            "tags": []
          }
        }
      ]
    },
    {
      "cell_type": "code",
      "metadata": {
        "id": "7C9RCxpvpMn1"
      },
      "source": [
        "is_ipython = 'inline' in matplotlib.get_backend()\n",
        "if is_ipython: from IPython import display"
      ],
      "execution_count": 5,
      "outputs": []
    },
    {
      "cell_type": "code",
      "metadata": {
        "id": "p9XnN8AQaqqg"
      },
      "source": [
        "## number of agents\n",
        "agents_num = 2"
      ],
      "execution_count": 6,
      "outputs": []
    },
    {
      "cell_type": "code",
      "metadata": {
        "id": "5boPhFD2-m1n"
      },
      "source": [
        "class DQN(nn.Module):\n",
        "  def __init__(self):\n",
        "    super().__init__()\n",
        "\n",
        "    self.hidden_dim = 48\n",
        "    self.linear_dim = 128\n",
        "    self.n_layers = 1\n",
        "    self.features_num = 4\n",
        "    self.agents_num = agents_num\n",
        "\n",
        "    ## define the RNNs the value and the advantage streams\n",
        "    ## define dynamically n subnetworks where n is equal to the agents number\n",
        "\n",
        "    self.rnn = nn.ModuleList([nn.RNN(self.features_num,self.hidden_dim,self.n_layers,batch_first = True) for i in range(self.agents_num)])\n",
        "    self.value_stream = nn.ModuleList([nn.Sequential(nn.Linear(self.hidden_dim, self.linear_dim),nn.ReLU(),nn.Linear(self.linear_dim,1)) for i in range(self.agents_num)])\n",
        "    self.advantage_stream = nn.ModuleList([nn.Sequential(nn.Linear(self.hidden_dim, self.linear_dim),nn.ReLU(),nn.Linear(self.linear_dim,5)) for i in range(self.agents_num)])\n",
        "\n",
        "  def forward(self,states):\n",
        "\n",
        "    batch_size = states[0].size(0)\n",
        "\n",
        "    ## a list where the q-values of all the agents are stored\n",
        "    gval_list = []\n",
        "\n",
        "    for i in range(self.agents_num):\n",
        "      ## initialise the hidden state of the RNN\n",
        "      hidden_state = self.init_hidden(batch_size)\n",
        "      ## pass the a batch of input states to the RNN\n",
        "      out,_ = self.rnn[i](states[i].float(),hidden_state)\n",
        "      ## collect the final output of the RNN\n",
        "      rnn_out = out[:,-1,:]\n",
        "      ## pass the RNN output to the value layer\n",
        "      value = self.value_stream[i](rnn_out)\n",
        "      ## pass the RNN output to the advantage layer\n",
        "      advantage = self.advantage_stream[i](rnn_out)\n",
        "      ## compute the Q values based on the value and the advantage\n",
        "      qvals = value + (advantage - advantage.mean())\n",
        "\n",
        "      gval_list.append(qvals)\n",
        "\n",
        "    return gval_list\n",
        "\n",
        "  def get_current(self,states,actions):\n",
        "\n",
        "    ## get the current action based on the policy network\n",
        "    q_vals = self.forward(states)\n",
        "    a = []\n",
        "    for i in range(self.agents_num):\n",
        "      a.append(q_vals[i].gather(dim=1, index=actions[i].unsqueeze(-1)))\n",
        "\n",
        "    ##sum the action values across all the agents\n",
        "    joint_actions = torch.zeros(a[0].size())\n",
        "\n",
        "    for i in range(self.agents_num):\n",
        "      joint_actions = torch.add(joint_actions,a[i])\n",
        "\n",
        "    return joint_actions\n",
        " \n",
        "  def get_next(self,next_states, flags):                \n",
        "    ## given the next state return the max Q value output using the target network\n",
        "    qvals = self.forward(next_states)\n",
        "    joint_qval = torch.zeros(qvals[0].size())\n",
        "    for i in range(self.agents_num):\n",
        "      joint_qval = torch.add(joint_qval,qvals[i]*flags[i])\n",
        "    ## return the maximum joint action value\n",
        "    return joint_qval.max(dim=1)[0].detach()\n",
        "\n",
        "  def init_hidden(self,batch_size):\n",
        "    return torch.zeros(self.n_layers,batch_size,self.hidden_dim)"
      ],
      "execution_count": 7,
      "outputs": []
    },
    {
      "cell_type": "code",
      "metadata": {
        "id": "jkWlvUT8qH8R"
      },
      "source": [
        "Experience = namedtuple(\n",
        "    'Experience',\n",
        "    ('state', 'action', 'next_state', 'reward','final')\n",
        ")"
      ],
      "execution_count": 8,
      "outputs": []
    },
    {
      "cell_type": "code",
      "metadata": {
        "id": "UEssplr_1fKl"
      },
      "source": [
        "## define a timeseries states length\n",
        "state_timesteps = 3"
      ],
      "execution_count": 9,
      "outputs": []
    },
    {
      "cell_type": "code",
      "metadata": {
        "id": "Bisk2D1_qQRh"
      },
      "source": [
        "class ReplayMemory():\n",
        "\n",
        "    def __init__(self, capacity):\n",
        "        ## the maximum capacity of the replay memory\n",
        "        self.capacity = capacity\n",
        "        ## the memory queue\n",
        "        self.memory = []\n",
        "\n",
        "    def push(self,experience):\n",
        "      self.memory.append(experience)\n",
        "\n",
        "    ## collect a random sample of experiences from the replay memory\n",
        "    ## batch_size has to be <= capacity\n",
        "    def sample(self, batch_size, indices = None):\n",
        "\n",
        "      states = []\n",
        "      actions = []\n",
        "      rewards = []\n",
        "      next_states =[]\n",
        "      final_flags = []\n",
        "\n",
        "      ## select batch_size number of indexes to sample from \n",
        "      if(len(self.memory) > self.capacity):\n",
        "        self.memory = self.memory[-self.capacity:]\n",
        "\n",
        "      if(indices == None):\n",
        "        indexes = random.sample(range(0,len(self.memory) - state_timesteps), batch_size)\n",
        "      else:\n",
        "        indexes = indices\n",
        "\n",
        "      ## create timeseries of experience replay\n",
        "      for i in range(batch_size):\n",
        "        state,action,reward,next_state,flag = self.give_timeseries_sample(indexes[i])\n",
        "\n",
        "        states.append(state)\n",
        "        actions.append(action)\n",
        "        rewards.append(reward)\n",
        "        next_states.append(next_state)\n",
        "        final_flags.append(flag)\n",
        "\n",
        "      states = np.array(states)\n",
        "      actions = np.array(actions)\n",
        "      rewards = np.array(rewards)\n",
        "      next_states = np.array(next_states)\n",
        "      final_flags = np.array(final_flags)\n",
        "\n",
        "      return states, actions, rewards, next_states, indexes, final_flags\n",
        "\n",
        "    def give_timeseries_sample(self,start):\n",
        "\n",
        "      end = start + state_timesteps\n",
        "      memory = self.memory[start:end]\n",
        "      t = Experience(*zip(*memory))\n",
        "\n",
        "      state = []\n",
        "      next_state = []\n",
        "\n",
        "      flag = 0\n",
        "\n",
        "      for i in range(len(t.state)):\n",
        "\n",
        "          state.append(np.array(t.state[i]))\n",
        "          next_state.append(np.array(t.next_state[i]))\n",
        "\n",
        "          ## if a final state is included in the series\n",
        "          if(i!= (len(t.state) -1) and t.final[i] == 1):\n",
        "            flag = 1\n",
        "          ## if a final state is the last step of the series\n",
        "          elif(i == (len(t.state) -1) and t.final[i] == 1):\n",
        "            flag = 2\n",
        "\n",
        "      return (np.array(state),np.array(t.action[-1]),np.array(t.reward[-1]),np.array(next_state),flag)\n",
        "\n",
        "\n",
        "    def get_last_timeseries_action(self):\n",
        "      if(len(self.memory) >= state_timesteps):\n",
        "        memory = self.memory[-state_timesteps:]\n",
        "        t = Experience(*zip(*memory))\n",
        "        state = []\n",
        "        for i in range(len(t.state)):\n",
        "          state.append(np.array(t.next_state[i]))\n",
        "        return np.array(state)\n",
        "      else:\n",
        "        return None\n",
        "\n",
        "    ## check if the replay memory can provide us with the minibatch we need\n",
        "    def can_provide_sample(self, batch_size):\n",
        "      return len(self.memory) >= (batch_size + state_timesteps)"
      ],
      "execution_count": 10,
      "outputs": []
    },
    {
      "cell_type": "code",
      "metadata": {
        "id": "EsQrrB8_sJ_x"
      },
      "source": [
        "class EpsilonGreedyStrategy():\n",
        "    def __init__(self, start, end, decay):\n",
        "        self.start = start\n",
        "        self.end = end\n",
        "        self.decay = decay\n",
        "\n",
        "    def get_exploration_rate(self, current_step):\n",
        "      return self.end + (self.start - self.end) * \\\n",
        "        math.exp(-1. * current_step * self.decay)"
      ],
      "execution_count": 11,
      "outputs": []
    },
    {
      "cell_type": "code",
      "metadata": {
        "id": "UwlqRTv7ttp4"
      },
      "source": [
        "class Agent():\n",
        "    def __init__(self, strategy, num_actions, device):\n",
        "        self.current_step = 0\n",
        "        self.strategy = strategy\n",
        "        self.num_actions = num_actions\n",
        "        self.device = device\n",
        "        self.episode_step = 0\n",
        "\n",
        "    def reset_episode_step(self):\n",
        "      self.episode_step = 0\n",
        "\n",
        "    def select_action(self, state, policy_net, agent_index):\n",
        "      \n",
        "        ## get the exploration rate\n",
        "        rate = self.strategy.get_exploration_rate(self.current_step)\n",
        "\n",
        "        self.current_step += 1\n",
        "        self.episode_step += 1\n",
        "\n",
        "        ## select to exploit or exlore according to e-greedy strategy with decay\n",
        "        if (rate > random.random() or self.episode_step < state_timesteps):\n",
        "            ## explore and return a random action\n",
        "            return random.randrange(self.num_actions)\n",
        "        else:\n",
        "            with torch.no_grad():\n",
        "              # exploit and return an action based on the policy net\n",
        "              state_tensor = torch.from_numpy(np.array(state))\n",
        "              state_tensor = torch.unsqueeze(state_tensor, 0)\n",
        "\n",
        "              s = []\n",
        "              for i in range(agents_num):\n",
        "                s.append(state_tensor.float())\n",
        "\n",
        "              qvals = policy_net(s)\n",
        "              action = qvals[agent_index].argmax(dim=1).to(self.device).item()\n",
        "              return action"
      ],
      "execution_count": 12,
      "outputs": []
    },
    {
      "cell_type": "code",
      "metadata": {
        "id": "MduL7TS9uqTE"
      },
      "source": [
        "class SwitchManager():\n",
        "\n",
        "    def __init__(self, device, env_name):\n",
        "        self.device = device\n",
        "        self.env = gym.make(env_name).unwrapped\n",
        "        self.env.reset()\n",
        "\n",
        "    def reset(self):\n",
        "        state = self.env.reset()\n",
        "        return state\n",
        "\n",
        "    def close(self):\n",
        "        self.env.close()\n",
        "\n",
        "\n",
        "    def num_actions_available(self):\n",
        "        return self.env.action_space[0].n\n",
        "\n",
        "    def take_action(self, action):        \n",
        "        return self.env.step(action)  "
      ],
      "execution_count": 13,
      "outputs": []
    },
    {
      "cell_type": "code",
      "metadata": {
        "id": "i2XrpqhSvjeb"
      },
      "source": [
        "## batch size (minibatch size to sample from the replay buffer)\n",
        "batch_size = 128\n",
        "## discount factor\n",
        "gamma = 0.999\n",
        "## params related to e-greedy strategy\n",
        "eps_start = 1\n",
        "eps_end = 0.01\n",
        "eps_decay = 0.0001\n",
        "## how often to update the target network\n",
        "target_update = 10\n",
        "## the size of the memory to remember\n",
        "memory_size = 1000000\n",
        "## learning rate of the nn\n",
        "lr = 0.0001\n",
        "## episodes to play\n",
        "num_episodes = 2000"
      ],
      "execution_count": 14,
      "outputs": []
    },
    {
      "cell_type": "code",
      "metadata": {
        "id": "UYKJVWyavqQF"
      },
      "source": [
        "device = torch.device(\"cuda\" if torch.cuda.is_available() else \"cpu\")"
      ],
      "execution_count": 15,
      "outputs": []
    },
    {
      "cell_type": "code",
      "metadata": {
        "id": "UJCQ7RdWvtpD",
        "colab": {
          "base_uri": "https://localhost:8080/"
        },
        "outputId": "8ee102b8-2b8c-45e4-8a4d-80941401e16f"
      },
      "source": [
        "env_name = \"Switch2-v0\"\n",
        "environment = SwitchManager(device,env_name)\n",
        "strategy = EpsilonGreedyStrategy(eps_start, eps_end, eps_decay)"
      ],
      "execution_count": 16,
      "outputs": [
        {
          "output_type": "stream",
          "text": [
            "/usr/local/lib/python3.7/dist-packages/gym/logger.py:30: UserWarning: \u001b[33mWARN: Box bound precision lowered by casting to float32\u001b[0m\n",
            "  warnings.warn(colorize('%s: %s'%('WARN', msg % args), 'yellow'))\n"
          ],
          "name": "stderr"
        }
      ]
    },
    {
      "cell_type": "code",
      "metadata": {
        "id": "cXQVFfPIFvcJ"
      },
      "source": [
        "agents = []\n",
        "memories = []\n",
        "policy_nets = []\n",
        "target_nets = []\n",
        "optimizers = []\n",
        "for i in range(agents_num):\n",
        "  agents.append(Agent(strategy, environment.num_actions_available(), device))\n",
        "  memories.append(ReplayMemory(memory_size))\n",
        "\n",
        "### define the policy and the target network\n",
        "policy_net = DQN().to(device)\n",
        "target_net = DQN().to(device)\n",
        "target_net.load_state_dict(policy_net.state_dict())\n",
        "target_net.eval()\n",
        "optimizer = optim.Adam(params=policy_net.parameters(), lr=lr)\n",
        "##optimizer = optim.RMSprop(params=policy_net.parameters(), lr=lr)"
      ],
      "execution_count": 17,
      "outputs": []
    },
    {
      "cell_type": "code",
      "metadata": {
        "id": "YulGWZ05hisj"
      },
      "source": [
        "def select_valid_data(states_list,next_state_list,action_list,reward_list,flag_list):\n",
        "\n",
        "  arr1 = np.array([1,1,1,1,1])\n",
        "  arr0 = np.array([0,0,0,0,0])\n",
        "\n",
        "  final_state_list, final_next_state_list, final_action_list, final_reward_list, final_flag_list = [],[],[],[],[]\n",
        "\n",
        "  for i in range(agents_num):\n",
        "    final_state_list.append([])\n",
        "    final_next_state_list.append([])\n",
        "    final_action_list.append([])\n",
        "    final_reward_list.append([])\n",
        "    final_flag_list.append([])\n",
        "\n",
        "  for i in range(batch_size):\n",
        "\n",
        "    flag = False\n",
        "    for j in range(agents_num):\n",
        "      if(flag_list[0][i]==1):\n",
        "        flag = True\n",
        "\n",
        "    if(flag == True):\n",
        "      continue\n",
        "    else:\n",
        "      for j in range(agents_num):\n",
        "        final_state_list[j].append(states_list[j][i])\n",
        "        final_next_state_list[j].append(next_state_list[j][i])\n",
        "        final_action_list[j].append(action_list[j][i])\n",
        "        final_reward_list[j].append(reward_list[j][i])\n",
        "\n",
        "        if(flag_list[j][i] == 0):\n",
        "          final_flag_list[j].append(arr1)\n",
        "        elif(flag_list[j][i] == 2):\n",
        "          final_flag_list[j].append(arr0)\n",
        "\n",
        "  for i in range(agents_num):\n",
        "      final_state_list[i] = np.array(final_state_list[i])\n",
        "      final_next_state_list[i] = np.array(final_next_state_list[i])\n",
        "      rewards[i] = np.array(rewards[i])\n",
        "      next_states[i] = np.array(next_states[i])\n",
        "      flags[i] = np.array(flags[i])\n",
        "\n",
        "\n",
        "  return np.array(final_state_list),  np.array(final_next_state_list), np.array(final_action_list), np.array(final_reward_list), np.array(final_flag_list)"
      ],
      "execution_count": 18,
      "outputs": []
    },
    {
      "cell_type": "code",
      "metadata": {
        "id": "Dpp_bA5TvyEL"
      },
      "source": [
        "def convert_to_tensors(states, actions, rewards, next_states, flags):\n",
        "    return torch.from_numpy(states), torch.from_numpy(actions), torch.from_numpy(rewards), torch.from_numpy(next_states), torch.from_numpy(flags)"
      ],
      "execution_count": 19,
      "outputs": []
    },
    {
      "cell_type": "code",
      "metadata": {
        "id": "YpZe30-4wE8v",
        "colab": {
          "base_uri": "https://localhost:8080/"
        },
        "outputId": "257b0b39-0988-4ecc-9d9d-421a7379c5ab"
      },
      "source": [
        "## for each episode\n",
        "reward_list = []\n",
        "episode_list = []\n",
        "cum_reward = []\n",
        "\n",
        "won_games = 0\n",
        "partially_won_games = 0\n",
        "\n",
        "win_list = []\n",
        "\n",
        "for episode in range(num_episodes):\n",
        "\n",
        "  for i in range(agents_num):\n",
        "    agents[i].reset_episode_step()\n",
        "\n",
        "  steps = 0\n",
        "\n",
        "  episode_list.append(episode)\n",
        "  done = [False for _ in range(agents_num)]\n",
        "  ## reward for the specific episode\n",
        "  eps_reward = 0\n",
        "  ## reset the environment at the start of each episode\n",
        "  state  = environment.reset()\n",
        "\n",
        "  ## for each timestep of thee episode\n",
        "  while (not all(done)):\n",
        "\n",
        "    partial_win_flag = 0\n",
        "\n",
        "    actions = []\n",
        "\n",
        "    steps += 1\n",
        "\n",
        "    ## for every agent\n",
        "    for i in range(agents_num):\n",
        "      ## select an action according to the policy net\n",
        "      action = agents[i].select_action(memories[i].get_last_timeseries_action(), policy_net, i)\n",
        "      actions.append(action)\n",
        "\n",
        "    ## execute the actions and obtain the reward of the actions selected\n",
        "    next_state, reward, done, info = environment.take_action(actions)\n",
        "    eps_reward += sum(reward)\n",
        "\n",
        "    for i in range(agents_num):\n",
        "      ## save the experience to the replay memory\n",
        "      state_features = [state[i][0], state[i][1], float(steps), float(i)]\n",
        "      next_state_features = [next_state[i][0], next_state[i][1], float(steps+1), float(i)]\n",
        "      memories[i].push(Experience(state_features, actions[i], next_state_features, sum(reward),int(done[i])))\n",
        "\n",
        "    state = next_state\n",
        "\n",
        "    st = []\n",
        "    a = []\n",
        "    nst = []\n",
        "    re = []\n",
        "    indices = None\n",
        "    flags = []\n",
        "    ## if the memory can provide us with a minibatch of experiences\n",
        "    if memories[0].can_provide_sample(batch_size):\n",
        "\n",
        "      for i in range(agents_num):\n",
        "        ## get tensors of the components of the experience batch\n",
        "        if(i==0):\n",
        "          states, actions, rewards, next_states, ind , final_flags = memories[i].sample(batch_size)\n",
        "          indices = ind\n",
        "        else:\n",
        "          states, actions, rewards, next_states, _ , final_flags = memories[i].sample(batch_size, indices)\n",
        "        \n",
        "        st.append(states)\n",
        "        a.append(actions)\n",
        "        re.append(rewards)\n",
        "        nst.append(next_states)\n",
        "        flags.append(final_flags)\n",
        "\n",
        "      st, nst, a, re, flags = select_valid_data(st,nst,a,re,flags)\n",
        "\n",
        "      st, a, re, nst, flags = convert_to_tensors(st, a, re, nst, flags)\n",
        "\n",
        "      ## get the current Q values using the policy network\n",
        "      current_q_values = policy_net.get_current(st.float(),a)\n",
        "\n",
        "      ## get the next Q values using the target network\n",
        "      next_q_values = target_net.get_next(nst.float(),flags.float())\n",
        "\n",
        "      ## compute the target Q values using bellman equation\n",
        "      target_q_values = (next_q_values * gamma) + re[0]\n",
        "\n",
        "      ## compute the loss\n",
        "      loss = F.mse_loss(current_q_values.float(), target_q_values.unsqueeze(1).float())\n",
        "      #loss = F.smooth_l1_loss(current_q_values.float(), target_q_values.unsqueeze(1).float())\n",
        "      ## update the policy network\n",
        "      optimizer.zero_grad()\n",
        "      loss.backward()\n",
        "      optimizer.step()\n",
        "\n",
        "      ## every a number of episodes update the target networks weights with the respective policy networks weights\n",
        "      if episode % target_update == 0:\n",
        "        target_net.load_state_dict(policy_net.state_dict())\n",
        "\n",
        "  reward_list.append(eps_reward)\n",
        "  cum_reward.append(sum(reward_list))\n",
        "\n",
        "  if(steps < 50):\n",
        "    won_games += 1\n",
        "    win_list.append(2)\n",
        "  elif(eps_reward > -7):\n",
        "    win_list.append(1)\n",
        "    partially_won_games += 1\n",
        "  else:\n",
        "    win_list.append(0)\n",
        "\n",
        "  print(\"Episode's \" + str(episode) + \" reward is: \" + str(eps_reward) + \" games won \" + str(won_games))\n",
        "  clear_output(wait=True)\n",
        "    \n",
        "## close the environment after the training of the network\n",
        "environment.close()"
      ],
      "execution_count": 20,
      "outputs": [
        {
          "output_type": "stream",
          "text": [
            "Episode's 1999 reward is: 7.2 games won 1536\n"
          ],
          "name": "stdout"
        }
      ]
    },
    {
      "cell_type": "code",
      "metadata": {
        "id": "3pUAtvsGiX2B",
        "colab": {
          "base_uri": "https://localhost:8080/"
        },
        "outputId": "27d43c2a-15f4-41c7-d02f-b0814fe5523b"
      },
      "source": [
        "print(\"Games won: \" + str(won_games))\n",
        "print(\"Games won by only one player: \" + str(partially_won_games))"
      ],
      "execution_count": 21,
      "outputs": [
        {
          "output_type": "stream",
          "text": [
            "Games won: 1536\n",
            "Games won by only one player: 281\n"
          ],
          "name": "stdout"
        }
      ]
    },
    {
      "cell_type": "code",
      "metadata": {
        "id": "K-E-R5IGlx1v",
        "colab": {
          "base_uri": "https://localhost:8080/",
          "height": 809
        },
        "outputId": "334965f4-9f41-44b4-a81c-6ab5aacbeeb1"
      },
      "source": [
        "## visualise the wins per epidose\n",
        "\n",
        "index = []\n",
        "for i in range(num_episodes):\n",
        "  index.append(i)\n",
        "\n",
        "x = index\n",
        "y = win_list\n",
        "label = win_list\n",
        "colors = ['red','green','blue']\n",
        "\n",
        "fig = plt.figure(figsize=(14,14))\n",
        "plt.scatter(x, y, c=label, cmap=matplotlib.colors.ListedColormap(colors))\n",
        "\n",
        "cb = plt.colorbar()\n",
        "loc = np.arange(0,max(label),max(label)/float(len(colors)))\n",
        "cb.set_ticks(loc)\n",
        "cb.set_ticklabels(colors)"
      ],
      "execution_count": 22,
      "outputs": [
        {
          "output_type": "display_data",
          "data": {
            "image/png": "[encoded data removed]",
            "text/plain": [
              "<Figure size 1008x1008 with 2 Axes>"
            ]
          },
          "metadata": {
            "tags": [],
            "needs_background": "light"
          }
        }
      ]
    },
    {
      "cell_type": "code",
      "metadata": {
        "id": "dnB1ebqtDbF9",
        "colab": {
          "base_uri": "https://localhost:8080/",
          "height": 295
        },
        "outputId": "93e64e06-eb8b-4707-95bb-e07a7b794632"
      },
      "source": [
        "train_plot=plt.plot(episode_list,reward_list,label=\"training curve\")\n",
        "random_policy=plt.plot(episodes_list,episodes_reward,label=\"random policy\")\n",
        "plt.legend()\n",
        "plt.title(\"Raw Reward - DQN Vs Random Policy for Switch Environment\")\n",
        "plt.xlabel(\"Episodes\")\n",
        "plt.ylabel(\"Reward\")\n",
        "plt.show()"
      ],
      "execution_count": 23,
      "outputs": [
        {
          "output_type": "display_data",
          "data": {
            "image/png": "[encoded data removed]",
            "text/plain": [
              "<Figure size 432x288 with 1 Axes>"
            ]
          },
          "metadata": {
            "tags": [],
            "needs_background": "light"
          }
        }
      ]
    },
    {
      "cell_type": "code",
      "metadata": {
        "id": "RPUG8DPuhBdc"
      },
      "source": [
        "## compute smoothed reward (moving average of the cummulative reward)\n",
        "training_smoothed_reward = []\n",
        "window = 20\n",
        "start = 0\n",
        "end = window\n",
        "for i in range(len(reward_list)):\n",
        "  training_smoothed_reward.append(np.mean(np.array(reward_list[start:end])))\n",
        "  start += 1\n",
        "  end += 1\n",
        "\n",
        "random_smoothed_reward = []\n",
        "window = 20\n",
        "start = 0\n",
        "end = window\n",
        "for i in range(len(episodes_reward)):\n",
        "  random_smoothed_reward.append(np.mean(np.array(episodes_reward[start:end])))\n",
        "  start += 1\n",
        "  end += 1"
      ],
      "execution_count": 24,
      "outputs": []
    },
    {
      "cell_type": "code",
      "metadata": {
        "id": "vGk2X2h9hVTc",
        "colab": {
          "base_uri": "https://localhost:8080/",
          "height": 295
        },
        "outputId": "f86e42fe-4ce4-4c73-fde7-149753b06865"
      },
      "source": [
        "train_plot=plt.plot(episode_list,training_smoothed_reward,label=\"training smoothed reward curve\")\n",
        "random_policy=plt.plot(episodes_list,random_smoothed_reward,label=\"random smoothed reward curve\")\n",
        "plt.legend()\n",
        "plt.title(\"Smoothed Reward - DQN Vs Random Policy for Switch Environment\")\n",
        "plt.xlabel(\"Episodes\")\n",
        "plt.ylabel(\"Smoothed Reward\")\n",
        "plt.show()"
      ],
      "execution_count": 25,
      "outputs": [
        {
          "output_type": "display_data",
          "data": {
            "image/png": "[encoded data removed]",
            "text/plain": [
              "<Figure size 432x288 with 1 Axes>"
            ]
          },
          "metadata": {
            "tags": [],
            "needs_background": "light"
          }
        }
      ]
    },
    {
      "cell_type": "code",
      "metadata": {
        "id": "e1j_xRtmDqIs",
        "colab": {
          "base_uri": "https://localhost:8080/",
          "height": 295
        },
        "outputId": "990aa52b-5fc3-4d34-c210-3b512bcc4dc5"
      },
      "source": [
        "train_plot=plt.plot(episode_list,cum_reward,label=\"training cummulative reward\")\n",
        "random_policy=plt.plot(episodes_list,cum_random_reward,label=\"random cummulative reward\")\n",
        "plt.legend()\n",
        "plt.title(\"Cumulative Reward - DQN Vs Random Policy for Switch Environment\")\n",
        "plt.xlabel(\"Episodes\")\n",
        "plt.ylabel(\"Cummulative Reward\")\n",
        "plt.show()"
      ],
      "execution_count": 26,
      "outputs": [
        {
          "output_type": "display_data",
          "data": {
            "image/png": "[encoded data removed]",
            "text/plain": [
              "<Figure size 432x288 with 1 Axes>"
            ]
          },
          "metadata": {
            "tags": [],
            "needs_background": "light"
          }
        }
      ]
    }
  ]
}